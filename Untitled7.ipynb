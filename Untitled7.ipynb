{
  "nbformat": 4,
  "nbformat_minor": 0,
  "metadata": {
    "colab": {
      "provenance": []
    },
    "kernelspec": {
      "name": "python3",
      "display_name": "Python 3"
    },
    "language_info": {
      "name": "python"
    }
  },
  "cells": [
    {
      "cell_type": "code",
      "execution_count": 2,
      "metadata": {
        "colab": {
          "base_uri": "https://localhost:8080/"
        },
        "id": "DfP5oPF7DrNH",
        "outputId": "d8e8cec0-3d8e-4128-b87a-58d7fafe2e61"
      },
      "outputs": [
        {
          "output_type": "stream",
          "name": "stdout",
          "text": [
            "\n",
            "您想查詢什麼？(藥方名稱/出典/處方/效能/適應症/退出查詢)：參苓白朮散《散》\n",
            "輸入無效，請重新輸入。\n",
            "\n",
            "您想查詢什麼？(藥方名稱/出典/處方/效能/適應症/退出查詢)：藥方名稱\n",
            "參苓白朮散《散》\n",
            "\n",
            "您想查詢什麼？(藥方名稱/出典/處方/效能/適應症/退出查詢)：出典\n",
            "參苓白朮散《散》的出典為:太平惠民和劑局方\n",
            "\n",
            "您想查詢什麼？(藥方名稱/出典/處方/效能/適應症/退出查詢)：處方\n",
            "參苓白朮散《散》的處方為:\n",
            "白扁豆：2.3公克\n",
            "人參：3公克\n",
            "茯苓：3公克\n",
            "白朮：3公克\n",
            "甘草：3公克\n",
            "山藥：3公克\n",
            "蓮子肉：1.5公克\n",
            "桔梗：1.5公克\n",
            "薏苡仁：1.5公克\n",
            "砂仁：1.5公克\n",
            "大棗：1.5公克\n",
            "總克數為：24.8公克\n",
            "\n",
            "您想查詢什麼？(藥方名稱/出典/處方/效能/適應症/退出查詢)：效能\n",
            "參苓白朮散《散》的效能是:補氣健脾、滲濕和胃\n",
            "\n",
            "您想查詢什麼？(藥方名稱/出典/處方/效能/適應症/退出查詢)：適應症\n",
            "參苓白朮散《散》的適應症有:\n",
            "脾胃虛弱、食少便溏\n",
            "\n",
            "您想查詢什麼？(藥方名稱/出典/處方/效能/適應症/退出查詢)：退出查詢\n",
            "感謝使用，再見！\n"
          ]
        }
      ],
      "source": [
        "# 定義參苓白朮散《散》的資料\n",
        "prescription = {\n",
        "    '名稱': '參苓白朮散《散》',\n",
        "    '出典': '太平惠民和劑局方',\n",
        "    '處方': {\n",
        "        '白扁豆': 2.3,  # 公克\n",
        "        '人參': 3,\n",
        "        '茯苓': 3,\n",
        "        '白朮': 3,\n",
        "        '甘草': 3,\n",
        "        '山藥': 3,\n",
        "        '蓮子肉': 1.5,\n",
        "        '桔梗': 1.5,\n",
        "        '薏苡仁': 1.5,\n",
        "        '砂仁': 1.5,\n",
        "        '大棗': 1.5,\n",
        "\n",
        "    },\n",
        "    '效能': '補氣健脾、滲濕和胃',\n",
        "    '適應症': ['脾胃虛弱、食少便溏']\n",
        "}\n",
        "\n",
        "# 使用 while 迴圈提供查詢服務\n",
        "while True:\n",
        "    query = input(\"\\n您想查詢什麼？(藥方名稱/出典/處方/效能/適應症/退出查詢)：\")\n",
        "\n",
        "    if query == \"藥方名稱\":\n",
        "        print(f\"{prescription['名稱']}\")\n",
        "    elif query == \"出典\":\n",
        "        print(f\"{prescription['名稱']}的出典為:{prescription['出典']}\")\n",
        "    elif query == \"適應症\":\n",
        "        print(f\"{prescription['名稱']}的適應症有:\")\n",
        "        for symptom in prescription['適應症']:\n",
        "            print(symptom)\n",
        "    elif query == \"處方\":\n",
        "        total_weight = sum(prescription['處方'].values())\n",
        "        print(f\"{prescription['名稱']}的處方為:\")\n",
        "        for medicine, weight in prescription['處方'].items():\n",
        "            print(f\"{medicine}：{weight}公克\")\n",
        "        print(f\"總克數為：{total_weight}公克\")\n",
        "    elif query == \"效能\":\n",
        "        print(f\"{prescription['名稱']}的效能是:{prescription['效能']}\")\n",
        "    elif query == \"退出查詢\":\n",
        "        print(\"感謝使用，再見！\")\n",
        "        break\n",
        "    else:\n",
        "        print(\"輸入無效，請重新輸入。\")"
      ]
    }
  ]
}